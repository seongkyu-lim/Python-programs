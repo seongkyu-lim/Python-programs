{
  "nbformat": 4,
  "nbformat_minor": 0,
  "metadata": {
    "colab": {
      "name": "Spin_flip.ipynb",
      "provenance": [],
      "collapsed_sections": [],
      "authorship_tag": "ABX9TyPnq61Rgf1BGhckzdsAEoye",
      "include_colab_link": true
    },
    "kernelspec": {
      "name": "python3",
      "display_name": "Python 3"
    }
  },
  "cells": [
    {
      "cell_type": "markdown",
      "metadata": {
        "id": "view-in-github",
        "colab_type": "text"
      },
      "source": [
        "<a href=\"https://colab.research.google.com/github/juhi9697/Python-programs/blob/master/Spin_flip.ipynb\" target=\"_parent\"><img src=\"https://colab.research.google.com/assets/colab-badge.svg\" alt=\"Open In Colab\"/></a>"
      ]
    },
    {
      "cell_type": "code",
      "metadata": {
        "id": "G2Z3Y6QdmEuY"
      },
      "source": [
        "!pip install qiskit\n",
        "#initialization\n",
        "import matplotlib.pyplot as plt\n",
        "%matplotlib inline\n",
        "import numpy as np\n",
        "# importing Qiskit\n",
        "from qiskit import IBMQ, BasicAer\n",
        "from qiskit.providers.ibmq import least_busy\n",
        "from qiskit import QuantumCircuit, ClassicalRegister, QuantumRegister, execute\n",
        "# import basic plot tools\n",
        "from qiskit.tools.visualization import plot_histogram"
      ],
      "execution_count": null,
      "outputs": []
    },
    {
      "cell_type": "code",
      "metadata": {
        "id": "QjzyhMdHm0hD",
        "outputId": "fb4988cb-0b74-4206-854f-45439231249b",
        "colab": {
          "base_uri": "https://localhost:8080/",
          "height": 68
        }
      },
      "source": [
        "player_register= QuantumRegister(1,'p')\n",
        "computer_register= QuantumRegister(1,'c')\n",
        "classical_register= ClassicalRegister(1,'a')\n",
        "circuit_spin_flip = QuantumCircuit(player_register,computer_register,classical_register)\n",
        "\n",
        "#First computer does its move \n",
        "circuit_spin_flip.h(computer_register[0])\n",
        "\n",
        "#Player decides if he/she want to flip the coin or not\n",
        "choice= input('enter your choice=')\n",
        "print(choice)\n",
        "#now player applies the gate based on the choice\n",
        "if (choice=='yes'):\n",
        "  circuit_spin_flip.x(player_register[0])\n",
        "else:\n",
        "  circuit_spin_flip.i(player_register[0])\n",
        "circuit_spin_flip.cx(player_register[0],computer_register[0])\n",
        "\n",
        "#Again computer applies its move\n",
        "circuit_spin_flip.h(computer_register[0])\n",
        "\n",
        "#measure the qubit\n",
        "circuit_spin_flip.measure(computer_register[0],classical_register[0])\n",
        " "
      ],
      "execution_count": null,
      "outputs": [
        {
          "output_type": "stream",
          "text": [
            "enter your choice=yes\n",
            "yes\n"
          ],
          "name": "stdout"
        },
        {
          "output_type": "execute_result",
          "data": {
            "text/plain": [
              "<qiskit.circuit.instructionset.InstructionSet at 0x7ff65df51b38>"
            ]
          },
          "metadata": {
            "tags": []
          },
          "execution_count": 2
        }
      ]
    },
    {
      "cell_type": "code",
      "metadata": {
        "id": "7gwXESRHqx_0",
        "outputId": "16833893-0ff0-4163-b778-0e4b4f49ced8",
        "colab": {
          "base_uri": "https://localhost:8080/",
          "height": 122
        }
      },
      "source": [
        "circuit_spin_flip.draw()"
      ],
      "execution_count": null,
      "outputs": [
        {
          "output_type": "execute_result",
          "data": {
            "text/html": [
              "<pre style=\"word-wrap: normal;white-space: pre;background: #fff0;line-height: 1.1;font-family: &quot;Courier New&quot;,Courier,monospace\">     ┌───┐             \n",
              "p_0: ┤ X ├──■──────────\n",
              "     ├───┤┌─┴─┐┌───┐┌─┐\n",
              "c_0: ┤ H ├┤ X ├┤ H ├┤M├\n",
              "     └───┘└───┘└───┘└╥┘\n",
              "a: 1/════════════════╩═\n",
              "                     0 </pre>"
            ],
            "text/plain": [
              "     ┌───┐             \n",
              "p_0: ┤ X ├──■──────────\n",
              "     ├───┤┌─┴─┐┌───┐┌─┐\n",
              "c_0: ┤ H ├┤ X ├┤ H ├┤M├\n",
              "     └───┘└───┘└───┘└╥┘\n",
              "a: 1/════════════════╩═\n",
              "                     0 "
            ]
          },
          "metadata": {
            "tags": []
          },
          "execution_count": 3
        }
      ]
    },
    {
      "cell_type": "code",
      "metadata": {
        "id": "yHFsxGlsrjme",
        "outputId": "0bd591b9-604d-409e-aa25-8115bede9625",
        "colab": {
          "base_uri": "https://localhost:8080/",
          "height": 340
        }
      },
      "source": [
        "# The execution of the circuit\n",
        "backend = BasicAer.get_backend('qasm_simulator')\n",
        "job = execute(circuit_spin_flip,  backend=backend, shots=100)\n",
        "result= job.result()\n",
        "counts = result.get_counts(circuit_spin_flip)\n",
        "print(counts)\n",
        "plot_histogram(counts)\n",
        "\n"
      ],
      "execution_count": null,
      "outputs": [
        {
          "output_type": "stream",
          "text": [
            "{'0': 100}\n"
          ],
          "name": "stdout"
        },
        {
          "output_type": "execute_result",
          "data": {
            "image/png": "[encoded data removed]",
            "text/plain": [
              "<Figure size 504x360 with 1 Axes>"
            ]
          },
          "metadata": {
            "tags": []
          },
          "execution_count": 4
        }
      ]
    }
  ]
}